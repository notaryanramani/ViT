{
 "cells": [
  {
   "cell_type": "code",
   "execution_count": 1,
   "id": "0b4108b6-7de7-4ff4-aa42-c07cfde60fae",
   "metadata": {},
   "outputs": [],
   "source": [
    "import torch "
   ]
  },
  {
   "cell_type": "code",
   "execution_count": 2,
   "id": "634a0d23-42cb-4b14-a75f-fa6325fac857",
   "metadata": {},
   "outputs": [
    {
     "data": {
      "text/plain": [
       "'mps'"
      ]
     },
     "execution_count": 2,
     "metadata": {},
     "output_type": "execute_result"
    }
   ],
   "source": [
    "device = 'mps' if torch.backends.mps.is_available() else 'cpu'\n",
    "device"
   ]
  },
  {
   "cell_type": "code",
   "execution_count": 3,
   "id": "e5158383-10e5-48b8-a32c-c295e035bace",
   "metadata": {},
   "outputs": [],
   "source": [
    "from vit.model import ViT"
   ]
  },
  {
   "cell_type": "code",
   "execution_count": 4,
   "id": "1c3f7fd9-a185-45b2-9bba-4b10fdc469de",
   "metadata": {},
   "outputs": [],
   "source": [
    "m = ViT(n_classes=10, patch_size=4, img_size=(32, 32))\n",
    "m.to(device);"
   ]
  },
  {
   "cell_type": "code",
   "execution_count": 5,
   "id": "5aee8a81-611e-4f84-8c8b-690fd36cdfbf",
   "metadata": {},
   "outputs": [
    {
     "name": "stdout",
     "output_type": "stream",
     "text": [
      "Model has 18969610 parameters\n"
     ]
    }
   ],
   "source": [
    "n_parameters = sum([p.numel() for p in m.parameters()])\n",
    "print(f'Model has {n_parameters} parameters')"
   ]
  },
  {
   "cell_type": "code",
   "execution_count": 6,
   "id": "7f847325-ba2e-452c-91f7-df6410efad7b",
   "metadata": {},
   "outputs": [
    {
     "name": "stdout",
     "output_type": "stream",
     "text": [
      "class_token                    | torch.Size([1, 1, 512])\n",
      "linear_proj.weight             | torch.Size([512, 48])\n",
      "linear_proj.bias               | torch.Size([512])\n",
      "pe.weight                      | torch.Size([64, 512])\n",
      "encoders.0.attn.query.weight   | torch.Size([512, 512])\n",
      "encoders.0.attn.key.weight     | torch.Size([512, 512])\n",
      "encoders.0.attn.value.weight   | torch.Size([512, 512])\n",
      "encoders.0.attn.out.weight     | torch.Size([512, 512])\n",
      "encoders.0.attn.out.bias       | torch.Size([512])\n",
      "encoders.0.ff.net.0.weight     | torch.Size([2048, 512])\n",
      "encoders.0.ff.net.0.bias       | torch.Size([2048])\n",
      "encoders.0.ff.net.2.weight     | torch.Size([512, 2048])\n",
      "encoders.0.ff.net.2.bias       | torch.Size([512])\n",
      "encoders.0.ln1.weight          | torch.Size([512])\n",
      "encoders.0.ln1.bias            | torch.Size([512])\n",
      "encoders.0.ln2.weight          | torch.Size([512])\n",
      "encoders.0.ln2.bias            | torch.Size([512])\n",
      "encoders.1.attn.query.weight   | torch.Size([512, 512])\n",
      "encoders.1.attn.key.weight     | torch.Size([512, 512])\n",
      "encoders.1.attn.value.weight   | torch.Size([512, 512])\n",
      "encoders.1.attn.out.weight     | torch.Size([512, 512])\n",
      "encoders.1.attn.out.bias       | torch.Size([512])\n",
      "encoders.1.ff.net.0.weight     | torch.Size([2048, 512])\n",
      "encoders.1.ff.net.0.bias       | torch.Size([2048])\n",
      "encoders.1.ff.net.2.weight     | torch.Size([512, 2048])\n",
      "encoders.1.ff.net.2.bias       | torch.Size([512])\n",
      "encoders.1.ln1.weight          | torch.Size([512])\n",
      "encoders.1.ln1.bias            | torch.Size([512])\n",
      "encoders.1.ln2.weight          | torch.Size([512])\n",
      "encoders.1.ln2.bias            | torch.Size([512])\n",
      "encoders.2.attn.query.weight   | torch.Size([512, 512])\n",
      "encoders.2.attn.key.weight     | torch.Size([512, 512])\n",
      "encoders.2.attn.value.weight   | torch.Size([512, 512])\n",
      "encoders.2.attn.out.weight     | torch.Size([512, 512])\n",
      "encoders.2.attn.out.bias       | torch.Size([512])\n",
      "encoders.2.ff.net.0.weight     | torch.Size([2048, 512])\n",
      "encoders.2.ff.net.0.bias       | torch.Size([2048])\n",
      "encoders.2.ff.net.2.weight     | torch.Size([512, 2048])\n",
      "encoders.2.ff.net.2.bias       | torch.Size([512])\n",
      "encoders.2.ln1.weight          | torch.Size([512])\n",
      "encoders.2.ln1.bias            | torch.Size([512])\n",
      "encoders.2.ln2.weight          | torch.Size([512])\n",
      "encoders.2.ln2.bias            | torch.Size([512])\n",
      "encoders.3.attn.query.weight   | torch.Size([512, 512])\n",
      "encoders.3.attn.key.weight     | torch.Size([512, 512])\n",
      "encoders.3.attn.value.weight   | torch.Size([512, 512])\n",
      "encoders.3.attn.out.weight     | torch.Size([512, 512])\n",
      "encoders.3.attn.out.bias       | torch.Size([512])\n",
      "encoders.3.ff.net.0.weight     | torch.Size([2048, 512])\n",
      "encoders.3.ff.net.0.bias       | torch.Size([2048])\n",
      "encoders.3.ff.net.2.weight     | torch.Size([512, 2048])\n",
      "encoders.3.ff.net.2.bias       | torch.Size([512])\n",
      "encoders.3.ln1.weight          | torch.Size([512])\n",
      "encoders.3.ln1.bias            | torch.Size([512])\n",
      "encoders.3.ln2.weight          | torch.Size([512])\n",
      "encoders.3.ln2.bias            | torch.Size([512])\n",
      "encoders.4.attn.query.weight   | torch.Size([512, 512])\n",
      "encoders.4.attn.key.weight     | torch.Size([512, 512])\n",
      "encoders.4.attn.value.weight   | torch.Size([512, 512])\n",
      "encoders.4.attn.out.weight     | torch.Size([512, 512])\n",
      "encoders.4.attn.out.bias       | torch.Size([512])\n",
      "encoders.4.ff.net.0.weight     | torch.Size([2048, 512])\n",
      "encoders.4.ff.net.0.bias       | torch.Size([2048])\n",
      "encoders.4.ff.net.2.weight     | torch.Size([512, 2048])\n",
      "encoders.4.ff.net.2.bias       | torch.Size([512])\n",
      "encoders.4.ln1.weight          | torch.Size([512])\n",
      "encoders.4.ln1.bias            | torch.Size([512])\n",
      "encoders.4.ln2.weight          | torch.Size([512])\n",
      "encoders.4.ln2.bias            | torch.Size([512])\n",
      "encoders.5.attn.query.weight   | torch.Size([512, 512])\n",
      "encoders.5.attn.key.weight     | torch.Size([512, 512])\n",
      "encoders.5.attn.value.weight   | torch.Size([512, 512])\n",
      "encoders.5.attn.out.weight     | torch.Size([512, 512])\n",
      "encoders.5.attn.out.bias       | torch.Size([512])\n",
      "encoders.5.ff.net.0.weight     | torch.Size([2048, 512])\n",
      "encoders.5.ff.net.0.bias       | torch.Size([2048])\n",
      "encoders.5.ff.net.2.weight     | torch.Size([512, 2048])\n",
      "encoders.5.ff.net.2.bias       | torch.Size([512])\n",
      "encoders.5.ln1.weight          | torch.Size([512])\n",
      "encoders.5.ln1.bias            | torch.Size([512])\n",
      "encoders.5.ln2.weight          | torch.Size([512])\n",
      "encoders.5.ln2.bias            | torch.Size([512])\n",
      "ln.weight                      | torch.Size([512])\n",
      "ln.bias                        | torch.Size([512])\n",
      "fc.weight                      | torch.Size([10, 512])\n",
      "fc.bias                        | torch.Size([10])\n"
     ]
    }
   ],
   "source": [
    "for key, val in m.state_dict().items():\n",
    "    print(f'{key} \\t | {val.shape}'.expandtabs(30))"
   ]
  },
  {
   "cell_type": "code",
   "execution_count": 7,
   "id": "84155125",
   "metadata": {},
   "outputs": [],
   "source": [
    "x = torch.randn(1, 3, 32, 32, device=device)"
   ]
  },
  {
   "cell_type": "code",
   "execution_count": 9,
   "id": "c7606506",
   "metadata": {},
   "outputs": [
    {
     "data": {
      "text/plain": [
       "torch.Size([1, 65, 10])"
      ]
     },
     "execution_count": 9,
     "metadata": {},
     "output_type": "execute_result"
    }
   ],
   "source": [
    "m(x).shape"
   ]
  },
  {
   "cell_type": "code",
   "execution_count": null,
   "id": "7b389cae",
   "metadata": {},
   "outputs": [],
   "source": []
  }
 ],
 "metadata": {
  "kernelspec": {
   "display_name": "Python 3 (ipykernel)",
   "language": "python",
   "name": "python3"
  },
  "language_info": {
   "codemirror_mode": {
    "name": "ipython",
    "version": 3
   },
   "file_extension": ".py",
   "mimetype": "text/x-python",
   "name": "python",
   "nbconvert_exporter": "python",
   "pygments_lexer": "ipython3",
   "version": "3.9.13"
  }
 },
 "nbformat": 4,
 "nbformat_minor": 5
}
